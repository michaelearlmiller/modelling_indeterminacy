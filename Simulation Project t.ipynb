{
 "cells": [
  {
   "cell_type": "markdown",
   "metadata": {},
   "source": [
    "preamble"
   ]
  },
  {
   "cell_type": "code",
   "execution_count": 1,
   "metadata": {
    "collapsed": true
   },
   "outputs": [],
   "source": [
    "import math\n",
    "import random\n",
    "import matplotlib.pyplot as plt\n",
    "from turtle import *"
   ]
  },
  {
   "cell_type": "code",
   "execution_count": 2,
   "metadata": {
    "collapsed": true
   },
   "outputs": [],
   "source": [
    "%matplotlib inline"
   ]
  },
  {
   "cell_type": "markdown",
   "metadata": {},
   "source": [
    "# 1. Indeterminacy Function \n"
   ]
  },
  {
   "cell_type": "code",
   "execution_count": 3,
   "metadata": {
    "collapsed": false
   },
   "outputs": [
    {
     "data": {
      "text/plain": [
       "1.3417942893663148"
      ]
     },
     "execution_count": 3,
     "metadata": {},
     "output_type": "execute_result"
    }
   ],
   "source": [
    "#this function truncates at one of the DECIMAL PLACES and then adds randomness after the truncation!\n",
    "def indeterminacy(number, d_w):\n",
    "    stepper = pow(10.0, d_w)\n",
    "    return (math.trunc(stepper * number) / stepper)+(random.uniform(0,10**-(d_w)))\n",
    "\n",
    "indeterminacy(1.34134550985, 2)"
   ]
  },
  {
   "cell_type": "code",
   "execution_count": 4,
   "metadata": {
    "collapsed": false,
    "scrolled": false
   },
   "outputs": [
    {
     "data": {
      "text/plain": [
       "1.34"
      ]
     },
     "execution_count": 4,
     "metadata": {},
     "output_type": "execute_result"
    }
   ],
   "source": [
    "#this can be compared with a function that only truncates\n",
    "def truncate(number, d_w):\n",
    "    stepper = pow(10.0, d_w)\n",
    "    return (math.trunc(stepper * number) / stepper)\n",
    "\n",
    "truncate(1.34134550985, 2)"
   ]
  },
  {
   "cell_type": "markdown",
   "metadata": {},
   "source": [
    "# Original Code\n"
   ]
  },
  {
   "cell_type": "raw",
   "metadata": {
    "collapsed": false,
    "scrolled": true
   },
   "source": [
    "\n",
    "\n",
    "# The gravitational constant G\n",
    "G = 6.67428e-11\n",
    "\n",
    "# Assumed scale: 100 pixels = 1AU.\n",
    "AU = (149.6e6 * 1000)     # 149.6 million km, in meters.\n",
    "SCALE = 250 / AU\n",
    "\n",
    "\n",
    "#define Body with parent clas turtle\n",
    "class Body(Turtle):\n",
    "    \"\"\"Subclass of Turtle representing a gravitationally-acting body.\n",
    "\n",
    "    Extra attributes:\n",
    "    mass : mass in kg\n",
    "    vx, vy: x, y velocities in m/s\n",
    "    px, py: x, y positions in m\n",
    "    \"\"\"\n",
    "    \n",
    "    name = 'Body'\n",
    "    mass = None\n",
    "    vx = vy = 0.0\n",
    "    px = py = 0.0\n",
    "    \n",
    "    \n",
    "    #define object method \"attraction\" \n",
    "    def attraction(self, other):\n",
    "        \"\"\"(Body): (fx, fy)\n",
    "\n",
    "        Returns the force exerted upon this body by the other body.\n",
    "        \"\"\"\n",
    "        # Report an error if the other object is the same as this one.\n",
    "        if self is other:\n",
    "            raise ValueError(\"Attraction of object %r to itself requested\"\n",
    "                             % self.name)\n",
    "\n",
    "        # Compute the distance of the other body.\n",
    "        sx, sy = self.px, self.py\n",
    "        ox, oy = other.px, other.py\n",
    "        dx = (ox-sx)\n",
    "        dy = (oy-sy)\n",
    "        d = math.sqrt(dx**2 + dy**2)\n",
    "\n",
    "        # Report an error if the distance is zero; otherwise we'll\n",
    "        # get a ZeroDivisionError exception further down.\n",
    "        if d == 0:\n",
    "            raise ValueError(\"Collision between objects %r and %r\"\n",
    "                             % (self.name, other.name))\n",
    "\n",
    "        # Compute the force of attraction\n",
    "        f = G * self.mass * other.mass / (d**2)\n",
    "\n",
    "        # Compute the direction of the force.\n",
    "        theta = math.atan2(dy, dx)\n",
    "        fx = math.cos(theta) * f\n",
    "        fy = math.sin(theta) * f\n",
    "        return fx, fy\n",
    "\n",
    "def update_info(step, bodies):\n",
    "    \"\"\"(int, [Body])\n",
    "    \n",
    "    Displays information about the status of the simulation.\n",
    "    \"\"\"\n",
    "    print('Step #{}'.format(step))\n",
    "    for body in bodies:\n",
    "        s = '{:<8}  Pos.={:>6.2f} {:>6.2f} Vel.={:>10.3f} {:>10.3f}'.format(\n",
    "            body.name, body.px/AU, body.py/AU, body.vx, body.vy)\n",
    "        print(s)\n",
    "    print()\n",
    "\n",
    "def loop(bodies):\n",
    "    \"\"\"([Body])\n",
    "\n",
    "    Never returns; loops through the simulation, updating the\n",
    "    positions of all the provided bodies.\n",
    "    \"\"\"\n",
    "    timestep = 24*3600  # One day\n",
    "    \n",
    "    for body in bodies:\n",
    "        body.penup()\n",
    "        body.hideturtle()\n",
    "\n",
    "    step = 1\n",
    " \n",
    "    while True:\n",
    "        update_info(step, bodies)\n",
    "        step += 1\n",
    "\n",
    "        force = {}\n",
    "        for body in bodies:\n",
    "            # Add up all of the forces exerted on 'body'.\n",
    "            total_fx = total_fy = 0.0\n",
    "            for other in bodies:\n",
    "                # Don't calculate the body's attraction to itself\n",
    "                if body is other:\n",
    "                    continue\n",
    "                fx, fy = body.attraction(other)\n",
    "                total_fx += fx\n",
    "                total_fy += fy\n",
    "\n",
    "            # Record the total force exerted.\n",
    "            force[body] = (total_fx, total_fy)\n",
    "\n",
    "        # Update velocities based upon on the force.\n",
    "        for body in bodies:\n",
    "            fx, fy = force[body]\n",
    "            body.vx += fx / body.mass * timestep\n",
    "            body.vy += fy / body.mass * timestep\n",
    "\n",
    "            # Update positions\n",
    "            body.px += body.vx * timestep\n",
    "            body.py += body.vy * timestep\n",
    "            body.goto(body.px*SCALE, body.py*SCALE)\n",
    "            body.dot(3)\n",
    "\n",
    "\n",
    "def main():\n",
    "    sun = Body()\n",
    "    sun.name = 'Sun'\n",
    "    sun.mass = 1.98892 * 10**30\n",
    "    sun.pencolor('yellow')\n",
    "    sun.pensize()\n",
    "    \n",
    "    earth = Body()\n",
    "    earth.name = 'Earth'\n",
    "    earth.mass = 5.9742 * 10**24\n",
    "    earth.px = -1*AU\n",
    "    earth.vy = 29.783 * 1000            # 29.783 km/sec\n",
    "    earth.pencolor('blue')\n",
    "\n",
    "    # Venus parameters taken from\n",
    "    # http://nssdc.gsfc.nasa.gov/planetary/factsheet/venusfact.html\n",
    "    venus = Body()\n",
    "    venus.name = 'Venus'\n",
    "    venus.mass = 4.8685 * 10**24\n",
    "    venus.px = 0.723 * AU\n",
    "    venus.vy = -35.02 * 1000\n",
    "    venus.pencolor('red')\n",
    "    \n",
    "    \n",
    "\n",
    "    loop([sun, earth, venus])\n",
    "\n",
    "if __name__ == '__main__':\n",
    "    main()"
   ]
  },
  {
   "cell_type": "markdown",
   "metadata": {},
   "source": [
    "# New Simulation with:\n",
    "   - Ability to change length of loop\n",
    "   - Only Earth\n",
    "   - More decimal places in the output \n",
    "   - G changes at each time step"
   ]
  },
  {
   "cell_type": "code",
   "execution_count": 7,
   "metadata": {
    "collapsed": false,
    "scrolled": true
   },
   "outputs": [
    {
     "ename": "KeyboardInterrupt",
     "evalue": "",
     "output_type": "error",
     "traceback": [
      "\u001b[0;31m---------------------------------------------------------------------------\u001b[0m",
      "\u001b[0;31mKeyboardInterrupt\u001b[0m                         Traceback (most recent call last)",
      "\u001b[0;32m<ipython-input-7-b3f7c83da214>\u001b[0m in \u001b[0;36m<module>\u001b[0;34m()\u001b[0m\n\u001b[1;32m    170\u001b[0m \u001b[0;34m\u001b[0m\u001b[0m\n\u001b[1;32m    171\u001b[0m \u001b[0;32mif\u001b[0m \u001b[0m__name__\u001b[0m \u001b[0;34m==\u001b[0m \u001b[0;34m'__main__'\u001b[0m\u001b[0;34m:\u001b[0m\u001b[0;34m\u001b[0m\u001b[0m\n\u001b[0;32m--> 172\u001b[0;31m     \u001b[0mrlist\u001b[0m\u001b[0;34m,\u001b[0m\u001b[0mtime\u001b[0m \u001b[0;34m=\u001b[0m \u001b[0mmain\u001b[0m\u001b[0;34m(\u001b[0m\u001b[0;34m)\u001b[0m\u001b[0;34m\u001b[0m\u001b[0m\n\u001b[0m\u001b[1;32m    173\u001b[0m \u001b[0;34m\u001b[0m\u001b[0m\n\u001b[1;32m    174\u001b[0m \u001b[0;34m\u001b[0m\u001b[0m\n",
      "\u001b[0;32m<ipython-input-7-b3f7c83da214>\u001b[0m in \u001b[0;36mmain\u001b[0;34m()\u001b[0m\n\u001b[1;32m    166\u001b[0m \u001b[0;34m\u001b[0m\u001b[0m\n\u001b[1;32m    167\u001b[0m \u001b[0;34m\u001b[0m\u001b[0m\n\u001b[0;32m--> 168\u001b[0;31m     \u001b[0mrlist\u001b[0m\u001b[0;34m,\u001b[0m \u001b[0mt\u001b[0m \u001b[0;34m=\u001b[0m \u001b[0mloop\u001b[0m\u001b[0;34m(\u001b[0m\u001b[0;34m[\u001b[0m\u001b[0mearth\u001b[0m\u001b[0;34m,\u001b[0m\u001b[0msun\u001b[0m\u001b[0;34m]\u001b[0m\u001b[0;34m)\u001b[0m\u001b[0;34m\u001b[0m\u001b[0m\n\u001b[0m\u001b[1;32m    169\u001b[0m     \u001b[0;32mreturn\u001b[0m\u001b[0;34m(\u001b[0m\u001b[0mrlist\u001b[0m\u001b[0;34m,\u001b[0m\u001b[0mtime\u001b[0m\u001b[0;34m)\u001b[0m\u001b[0;34m\u001b[0m\u001b[0m\n\u001b[1;32m    170\u001b[0m \u001b[0;34m\u001b[0m\u001b[0m\n",
      "\u001b[0;32m<ipython-input-7-b3f7c83da214>\u001b[0m in \u001b[0;36mloop\u001b[0;34m(bodies)\u001b[0m\n\u001b[1;32m    141\u001b[0m             \u001b[0mbody\u001b[0m\u001b[0;34m.\u001b[0m\u001b[0mpy\u001b[0m \u001b[0;34m+=\u001b[0m \u001b[0mbody\u001b[0m\u001b[0;34m.\u001b[0m\u001b[0mvy\u001b[0m \u001b[0;34m*\u001b[0m \u001b[0mtimestep\u001b[0m\u001b[0;34m\u001b[0m\u001b[0m\n\u001b[1;32m    142\u001b[0m             \u001b[0mbody\u001b[0m\u001b[0;34m.\u001b[0m\u001b[0mgoto\u001b[0m\u001b[0;34m(\u001b[0m\u001b[0mbody\u001b[0m\u001b[0;34m.\u001b[0m\u001b[0mpx\u001b[0m\u001b[0;34m*\u001b[0m\u001b[0mSCALE\u001b[0m\u001b[0;34m,\u001b[0m \u001b[0mbody\u001b[0m\u001b[0;34m.\u001b[0m\u001b[0mpy\u001b[0m\u001b[0;34m*\u001b[0m\u001b[0mSCALE\u001b[0m\u001b[0;34m)\u001b[0m\u001b[0;34m\u001b[0m\u001b[0m\n\u001b[0;32m--> 143\u001b[0;31m             \u001b[0mbody\u001b[0m\u001b[0;34m.\u001b[0m\u001b[0mdot\u001b[0m\u001b[0;34m(\u001b[0m\u001b[0;36m1\u001b[0m\u001b[0;34m)\u001b[0m\u001b[0;34m\u001b[0m\u001b[0m\n\u001b[0m\u001b[1;32m    144\u001b[0m \u001b[0;34m\u001b[0m\u001b[0m\n\u001b[1;32m    145\u001b[0m \u001b[0;34m\u001b[0m\u001b[0m\n",
      "\u001b[0;32m/Users/hannahsousa-fronenberg/anaconda/envs/py27/lib/python2.7/lib-tk/turtle.pyc\u001b[0m in \u001b[0;36mdot\u001b[0;34m(self, size, *color)\u001b[0m\n\u001b[1;32m   3261\u001b[0m                 \u001b[0mself\u001b[0m\u001b[0;34m.\u001b[0m\u001b[0mforward\u001b[0m\u001b[0;34m(\u001b[0m\u001b[0;36m0\u001b[0m\u001b[0;34m)\u001b[0m\u001b[0;34m\u001b[0m\u001b[0m\n\u001b[1;32m   3262\u001b[0m             \u001b[0;32mfinally\u001b[0m\u001b[0;34m:\u001b[0m\u001b[0;34m\u001b[0m\u001b[0m\n\u001b[0;32m-> 3263\u001b[0;31m                 \u001b[0mself\u001b[0m\u001b[0;34m.\u001b[0m\u001b[0mpen\u001b[0m\u001b[0;34m(\u001b[0m\u001b[0mpen\u001b[0m\u001b[0;34m)\u001b[0m\u001b[0;34m\u001b[0m\u001b[0m\n\u001b[0m\u001b[1;32m   3264\u001b[0m             \u001b[0;32mif\u001b[0m \u001b[0mself\u001b[0m\u001b[0;34m.\u001b[0m\u001b[0mundobuffer\u001b[0m\u001b[0;34m:\u001b[0m\u001b[0;34m\u001b[0m\u001b[0m\n\u001b[1;32m   3265\u001b[0m                 \u001b[0mself\u001b[0m\u001b[0;34m.\u001b[0m\u001b[0mundobuffer\u001b[0m\u001b[0;34m.\u001b[0m\u001b[0mcumulate\u001b[0m \u001b[0;34m=\u001b[0m \u001b[0mFalse\u001b[0m\u001b[0;34m\u001b[0m\u001b[0m\n",
      "\u001b[0;32m/Users/hannahsousa-fronenberg/anaconda/envs/py27/lib/python2.7/lib-tk/turtle.pyc\u001b[0m in \u001b[0;36mpen\u001b[0;34m(self, pen, **pendict)\u001b[0m\n\u001b[1;32m   2362\u001b[0m         \u001b[0;32mif\u001b[0m \u001b[0;34m\"tilt\"\u001b[0m \u001b[0;32min\u001b[0m \u001b[0mp\u001b[0m\u001b[0;34m:\u001b[0m\u001b[0;34m\u001b[0m\u001b[0m\n\u001b[1;32m   2363\u001b[0m             \u001b[0mself\u001b[0m\u001b[0;34m.\u001b[0m\u001b[0m_tilt\u001b[0m \u001b[0;34m=\u001b[0m \u001b[0mp\u001b[0m\u001b[0;34m[\u001b[0m\u001b[0;34m\"tilt\"\u001b[0m\u001b[0;34m]\u001b[0m\u001b[0;34m\u001b[0m\u001b[0m\n\u001b[0;32m-> 2364\u001b[0;31m         \u001b[0mself\u001b[0m\u001b[0;34m.\u001b[0m\u001b[0m_update\u001b[0m\u001b[0;34m(\u001b[0m\u001b[0;34m)\u001b[0m\u001b[0;34m\u001b[0m\u001b[0m\n\u001b[0m\u001b[1;32m   2365\u001b[0m \u001b[0;34m\u001b[0m\u001b[0m\n\u001b[1;32m   2366\u001b[0m \u001b[0;31m## three dummy methods to be implemented by child class:\u001b[0m\u001b[0;34m\u001b[0m\u001b[0;34m\u001b[0m\u001b[0m\n",
      "\u001b[0;32m/Users/hannahsousa-fronenberg/anaconda/envs/py27/lib/python2.7/lib-tk/turtle.pyc\u001b[0m in \u001b[0;36m_update\u001b[0;34m(self)\u001b[0m\n\u001b[1;32m   2565\u001b[0m             \u001b[0mself\u001b[0m\u001b[0;34m.\u001b[0m\u001b[0m_update_data\u001b[0m\u001b[0;34m(\u001b[0m\u001b[0;34m)\u001b[0m\u001b[0;34m\u001b[0m\u001b[0m\n\u001b[1;32m   2566\u001b[0m             \u001b[0mself\u001b[0m\u001b[0;34m.\u001b[0m\u001b[0m_drawturtle\u001b[0m\u001b[0;34m(\u001b[0m\u001b[0;34m)\u001b[0m\u001b[0;34m\u001b[0m\u001b[0m\n\u001b[0;32m-> 2567\u001b[0;31m             \u001b[0mscreen\u001b[0m\u001b[0;34m.\u001b[0m\u001b[0m_update\u001b[0m\u001b[0;34m(\u001b[0m\u001b[0;34m)\u001b[0m                  \u001b[0;31m# TurtleScreenBase\u001b[0m\u001b[0;34m\u001b[0m\u001b[0m\n\u001b[0m\u001b[1;32m   2568\u001b[0m             \u001b[0mscreen\u001b[0m\u001b[0;34m.\u001b[0m\u001b[0m_delay\u001b[0m\u001b[0;34m(\u001b[0m\u001b[0mscreen\u001b[0m\u001b[0;34m.\u001b[0m\u001b[0m_delayvalue\u001b[0m\u001b[0;34m)\u001b[0m \u001b[0;31m# TurtleScreenBase\u001b[0m\u001b[0;34m\u001b[0m\u001b[0m\n\u001b[1;32m   2569\u001b[0m         \u001b[0;32melse\u001b[0m\u001b[0;34m:\u001b[0m\u001b[0;34m\u001b[0m\u001b[0m\n",
      "\u001b[0;32m/Users/hannahsousa-fronenberg/anaconda/envs/py27/lib/python2.7/lib-tk/turtle.pyc\u001b[0m in \u001b[0;36m_update\u001b[0;34m(self)\u001b[0m\n\u001b[1;32m    584\u001b[0m         \"\"\"Redraw graphics items on canvas\n\u001b[1;32m    585\u001b[0m         \"\"\"\n\u001b[0;32m--> 586\u001b[0;31m         \u001b[0mself\u001b[0m\u001b[0;34m.\u001b[0m\u001b[0mcv\u001b[0m\u001b[0;34m.\u001b[0m\u001b[0mupdate\u001b[0m\u001b[0;34m(\u001b[0m\u001b[0;34m)\u001b[0m\u001b[0;34m\u001b[0m\u001b[0m\n\u001b[0m\u001b[1;32m    587\u001b[0m \u001b[0;34m\u001b[0m\u001b[0m\n\u001b[1;32m    588\u001b[0m     \u001b[0;32mdef\u001b[0m \u001b[0m_delay\u001b[0m\u001b[0;34m(\u001b[0m\u001b[0mself\u001b[0m\u001b[0;34m,\u001b[0m \u001b[0mdelay\u001b[0m\u001b[0;34m)\u001b[0m\u001b[0;34m:\u001b[0m\u001b[0;34m\u001b[0m\u001b[0m\n",
      "\u001b[0;32m/Users/hannahsousa-fronenberg/anaconda/envs/py27/lib/python2.7/lib-tk/Tkinter.pyc\u001b[0m in \u001b[0;36mupdate\u001b[0;34m(self)\u001b[0m\n\u001b[1;32m   1022\u001b[0m     \u001b[0;32mdef\u001b[0m \u001b[0mupdate\u001b[0m\u001b[0;34m(\u001b[0m\u001b[0mself\u001b[0m\u001b[0;34m)\u001b[0m\u001b[0;34m:\u001b[0m\u001b[0;34m\u001b[0m\u001b[0m\n\u001b[1;32m   1023\u001b[0m         \u001b[0;34m\"\"\"Enter event loop until all pending events have been processed by Tcl.\"\"\"\u001b[0m\u001b[0;34m\u001b[0m\u001b[0m\n\u001b[0;32m-> 1024\u001b[0;31m         \u001b[0mself\u001b[0m\u001b[0;34m.\u001b[0m\u001b[0mtk\u001b[0m\u001b[0;34m.\u001b[0m\u001b[0mcall\u001b[0m\u001b[0;34m(\u001b[0m\u001b[0;34m'update'\u001b[0m\u001b[0;34m)\u001b[0m\u001b[0;34m\u001b[0m\u001b[0m\n\u001b[0m\u001b[1;32m   1025\u001b[0m     \u001b[0;32mdef\u001b[0m \u001b[0mupdate_idletasks\u001b[0m\u001b[0;34m(\u001b[0m\u001b[0mself\u001b[0m\u001b[0;34m)\u001b[0m\u001b[0;34m:\u001b[0m\u001b[0;34m\u001b[0m\u001b[0m\n\u001b[1;32m   1026\u001b[0m         \"\"\"Enter event loop until all idle callbacks have been called. This\n",
      "\u001b[0;31mKeyboardInterrupt\u001b[0m: "
     ]
    }
   ],
   "source": [
    "\n",
    "\n",
    "\n",
    "# The gravitational constant G\n",
    "G = 6.67428e-11\n",
    "\n",
    "# Assumed scale: 100 pixels = 1AU.\n",
    "AU = (149.6e6 * 1000)     # 149.6 million km, in meters.\n",
    "SCALE = 250 / AU\n",
    "\n",
    "\n",
    "#define Body with parent clas turtle\n",
    "class Body(Turtle):\n",
    "    \"\"\"Subclass of Turtle representing a gravitationally-acting body.\n",
    "\n",
    "    Extra attributes:\n",
    "    mass : mass in kg\n",
    "    vx, vy: x, y velocities in m/s\n",
    "    px, py: x, y positions in m\n",
    "    \"\"\"\n",
    "    \n",
    "    name = 'Body'\n",
    "    mass = None\n",
    "    vx = vy = 0.0\n",
    "    px = py = 0.0\n",
    "    \n",
    "    \n",
    "    #define object method \"attraction\" \n",
    "    def attraction(self, other):###pass attraction a third parameter g which is the one \n",
    "        \"\"\"(Body): (fx, fy)\n",
    "\n",
    "        Returns the force exerted upon this body by the other body.\n",
    "        \"\"\"\n",
    "        \n",
    "        g = indeterminacy(G,10)\n",
    "        \n",
    "        # Report an error if the other object is the same as this one.\n",
    "        \n",
    "    \n",
    "        if self is other:\n",
    "            raise ValueError(\"Attraction of object %r to itself requested\"\n",
    "                             % self.name)\n",
    "\n",
    "        # Compute the distance of the other body.\n",
    "        sx, sy = self.px, self.py\n",
    "        ox, oy = other.px, other.py\n",
    "        dx = (ox-sx)\n",
    "        dy = (oy-sy)\n",
    "        d = math.sqrt(dx**2 + dy**2)\n",
    "\n",
    "        # Report an error if the distance is zero; otherwise we'll\n",
    "        # get a ZeroDivisionError exception further down.\n",
    "        if d == 0:\n",
    "            raise ValueError(\"Collision between objects %r and %r\"\n",
    "                             % (self.name, other.name))\n",
    "\n",
    "        # Compute the force of attraction\n",
    "        f =  g * self.mass * other.mass / (d**2)\n",
    "        \n",
    "   \n",
    "\n",
    "        # Compute the direction of the force.\n",
    "        theta = math.atan2(dy, dx)\n",
    "        fx = math.cos(theta) * f\n",
    "        fy = math.sin(theta) * f\n",
    "        return fx, fy\n",
    "        \n",
    "#   \n",
    "\n",
    "def update_info(step, bodies):\n",
    "    \"\"\"(int, [Body])\n",
    "    \n",
    "    Displays information about the status of the simulation.\n",
    "    \"\"\"\n",
    "    #x = []\n",
    "    #y = []\n",
    "    x = bodies[0].px/AU\n",
    "    y = bodies[0].py/AU\n",
    "    \n",
    "    #print('Step #{}'.format(step))\n",
    "    for body in bodies:\n",
    "        s = '{:<8}  Pos.={:>6.2f} {:>6.2f} Vel.={:>10.3f} {:>10.3f}'.format(\n",
    "            body.name, body.px/AU, body.py/AU, body.vx, body.vy)\n",
    "        #x.append(body.px/AU)\n",
    "        #y.append(body.py/AU)\n",
    "            \n",
    "        #print(s)\n",
    "    #print()\n",
    "    return x,y\n",
    "\n",
    "\n",
    "rlist = []\n",
    "time = []\n",
    "\n",
    "def loop(bodies):\n",
    "    \"\"\"([Body])\n",
    "\n",
    "    Never returns; loops through the simulation, updating the\n",
    "    positions of all the provided bodies.\n",
    "    \"\"\"\n",
    "    timestep = 3600 #One hour\n",
    "    \n",
    "    for body in bodies:\n",
    "        body.penup()\n",
    "        body.hideturtle()\n",
    "\n",
    "    step = 1\n",
    " \n",
    "    while step < 9000:\n",
    "        xs,ys = update_info(step,bodies)\n",
    "        r = sqrt(xs**2 + ys**2)\n",
    "        rlist.append(r)\n",
    "        time.append(step)\n",
    "    \n",
    "        step += 1\n",
    "        if step ==9000: \n",
    "            break\n",
    "        force = {}\n",
    "        for body in bodies:\n",
    "            # Add up all of the forces exerted on 'body'.\n",
    "            total_fx = total_fy = 0.0\n",
    "            for other in bodies:\n",
    "                # Don't calculate the body's attraction to itself\n",
    "                if body is other:\n",
    "                    continue\n",
    "                fx, fy = body.attraction(other)\n",
    "                total_fx += fx\n",
    "                total_fy += fy\n",
    "\n",
    "            # Record the total force exerted.\n",
    "            force[body] = (total_fx, total_fy)\n",
    "\n",
    "        # Update velocities based upon on the force.\n",
    "        for body in bodies:\n",
    "            fx, fy = force[body]\n",
    "            body.vx += fx / body.mass * timestep\n",
    "            body.vy += fy / body.mass * timestep\n",
    "\n",
    "            # Update positions\n",
    "            body.px += body.vx * timestep\n",
    "            body.py += body.vy * timestep\n",
    "            body.goto(body.px*SCALE, body.py*SCALE)\n",
    "            body.dot(1)   \n",
    "\n",
    "\n",
    "\n",
    "    return rlist, time \n",
    "\n",
    "def main():\n",
    "    sun = Body()\n",
    "    sun.name = 'Sun'\n",
    "    sun.mass = 1.98892 * 10**30\n",
    "    sun.pencolor('red')\n",
    "    sun.pensize(100)\n",
    "    \n",
    "    earth = Body()\n",
    "    earth.name = 'Earth'\n",
    "    earth.mass = 5.9742 * 10**24\n",
    "    earth.px = -1*AU\n",
    "    earth.vy = 29.783 * 1000            # 29.783 km/sec\n",
    "    earth.pencolor('green')\n",
    "    \n",
    "    #title('dw=none')\n",
    "    #write ('dw = none', font = ('Times', 18, 'bold'))\n",
    "    setup (2000, 2000, 0, 0)\n",
    "\n",
    " \n",
    "    rlist, t = loop([earth,sun])\n",
    "    return(rlist,time)\n",
    "   \n",
    "if __name__ == '__main__':\n",
    "    rlist,time = main()\n",
    "    \n",
    "\n"
   ]
  },
  {
   "cell_type": "code",
   "execution_count": 11,
   "metadata": {
    "collapsed": false
   },
   "outputs": [],
   "source": [
    "rlist_before = rlist #this is the radial info from the maximally precise run which is plotted below"
   ]
  },
  {
   "cell_type": "code",
   "execution_count": 9,
   "metadata": {
    "collapsed": false,
    "scrolled": true
   },
   "outputs": [
    {
     "data": {
      "text/plain": [
       "(0.9, 1.1)"
      ]
     },
     "execution_count": 9,
     "metadata": {},
     "output_type": "execute_result"
    },
    {
     "data": {
      "image/png": "[encoded data removed]",
      "text/plain": [
       "<matplotlib.figure.Figure at 0x125f65e90>"
      ]
     },
     "metadata": {},
     "output_type": "display_data"
    }
   ],
   "source": [
    "#plot of maximally precise distance between sun and earth\n",
    "plt.plot(time,rlist)\n",
    "plt.plot()\n",
    "plt.ylim(0.9, 1.1)"
   ]
  },
  {
   "cell_type": "markdown",
   "metadata": {
    "collapsed": false
   },
   "source": [
    "Questions:\n",
    "   1. for the very large parameters do we introduce randomness only in the decimal places? or starting from say, 10**25?? That is, do we add randomness immedately after the digits we have measured??\n",
    "    2. do we make each paramenter and variable have its own wordly digit? or does everything have the same \"resolution\". If everything has the same worldly digit that would be easier to automate. \n",
    "    3. we could also consiter ALSO randomizing the \"level\" of worldliness for each parameter\n",
    "    4. how do we know what the worldliness of the output is? "
   ]
  },
  {
   "cell_type": "markdown",
   "metadata": {},
   "source": [
    "#comparing vy with and without randomness \n",
    "\n",
    "with open(\"vy_indet.txt\",'r') as f:\n",
    "    for count, line in enumerate(f, start=1):\n",
    "        if count % 3 == 0 :\n",
    "            print(line)\n",
    "       \n",
    "\n"
   ]
  },
  {
   "cell_type": "markdown",
   "metadata": {
    "collapsed": true
   },
   "source": [
    "How could we make this function better: \n",
    "   1. use the https://www.nist.gov/programs-projects/nist-randomness-beacon to create \"real\" randomness \n",
    "   2. get more decimal places \n",
    "   3. allow it to truncate either decimal places or non decimal digits -->this may be a lil tricky because we would have to round. Are you ok with that? "
   ]
  },
  {
   "cell_type": "markdown",
   "metadata": {},
   "source": [
    "\n",
    "    "
   ]
  },
  {
   "cell_type": "markdown",
   "metadata": {},
   "source": [
    "How to implement with the simulation:\n",
    "   1. call the indet function at each time step\n",
    "   \n",
    "Legend for the image witht escape:\n",
    "1. green: dw=10, blue: dw=12, pink: dw=19, black: precise\n",
    "   \n",
    " "
   ]
  },
  {
   "cell_type": "markdown",
   "metadata": {
    "collapsed": false
   },
   "source": [
    "with open('earth.txt', 'r') as f:\n",
    "    for count, line in enumerate(f, start=0):\n",
    "        if count % 2 == 0:\n",
    "            print(line)"
   ]
  },
  {
   "cell_type": "markdown",
   "metadata": {
    "collapsed": false
   },
   "source": [
    "h = open(\"earth.txt\",'r')\n",
    "lines = h.readlines()\n",
    "\n",
    "\n",
    "\n",
    "for line in lines:\n",
    "    line = line.strip()\n",
    "    column = line.split()\n",
    "    x = column [0]\n",
    "    y = column [1]\n",
    "    print(x,y)"
   ]
  },
  {
   "cell_type": "code",
   "execution_count": 40,
   "metadata": {
    "collapsed": true
   },
   "outputs": [],
   "source": []
  },
  {
   "cell_type": "code",
   "execution_count": null,
   "metadata": {
    "collapsed": true
   },
   "outputs": [],
   "source": []
  },
  {
   "cell_type": "code",
   "execution_count": null,
   "metadata": {
    "collapsed": true
   },
   "outputs": [],
   "source": []
  }
 ],
 "metadata": {
  "anaconda-cloud": {},
  "kernelspec": {
   "display_name": "Python [py27]",
   "language": "python",
   "name": "Python [py27]"
  },
  "language_info": {
   "codemirror_mode": {
    "name": "ipython",
    "version": 2
   },
   "file_extension": ".py",
   "mimetype": "text/x-python",
   "name": "python",
   "nbconvert_exporter": "python",
   "pygments_lexer": "ipython2",
   "version": "2.7.13"
  }
 },
 "nbformat": 4,
 "nbformat_minor": 0
}
